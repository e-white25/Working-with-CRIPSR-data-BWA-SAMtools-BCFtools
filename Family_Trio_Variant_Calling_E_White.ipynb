{
  "cells": [
    {
      "cell_type": "markdown",
      "metadata": {
        "id": "view-in-github",
        "colab_type": "text"
      },
      "source": [
        "<a href=\"https://colab.research.google.com/github/e-white25/Working-with-CRIPSR-data-BWA-SAMtools-BCFtools/blob/main/Family_Trio_Variant_Calling_E_White.ipynb\" target=\"_parent\"><img src=\"https://colab.research.google.com/assets/colab-badge.svg\" alt=\"Open In Colab\"/></a>"
      ]
    },
    {
      "cell_type": "markdown",
      "metadata": {
        "id": "qZjek1XGjxuM"
      },
      "source": [
        "#**Data Pre-Processing, Rerence Genome Indexing, Alignment, Variant Calling, Filtering, Funcotator**\n",
        "\n"
      ]
    },
    {
      "cell_type": "markdown",
      "metadata": {
        "id": "not1FvVymeaU"
      },
      "source": [
        "Download & index reference genome and family trio datasets"
      ]
    },
    {
      "cell_type": "code",
      "execution_count": null,
      "metadata": {
        "id": "bV4lMRda6OUq"
      },
      "outputs": [],
      "source": [
        "### Our hg38 reference was indexed for us; if not run the first step\n",
        "!apt install bwa\n",
        "!apt install samtools\n",
        "#!apt install bcftools\n",
        "!bwa index ip hg38.fasta\n",
        "!wget --no-check-certificate  https://hgdownload.soe.ucsc.edu/goldenPath/hg38/bigZips/hg38.fa.gz\n",
        "!gunzip hg38.fa.gz\n",
        "!gatk-4.3.0.0/gatk CreateSequenceDictionary R=hg38.fa O=hg38.dict"
      ]
    },
    {
      "cell_type": "markdown",
      "metadata": {
        "id": "cKQyFCnpokbc"
      },
      "source": [
        "Read Processing: Run QC, Remove adaptor sequences"
      ]
    },
    {
      "cell_type": "code",
      "execution_count": null,
      "metadata": {
        "id": "Dxlt6wKI0T30"
      },
      "outputs": [],
      "source": [
        "### Our data was pre-processed by the Genome in Bottle Consorsium; if it was not pre-processed, here are tools for trimming low-quality reads and adapter sequences\n",
        "!sudo apt-get install -y default-jre\n",
        "!wget https://www.bioinformatics.babraham.ac.uk/projects/fastqc/fastqc_v0.11.9.zip\n",
        "!unzip fastqc_v0.11.9.zip\n",
        "!chmod +x FastQC/fastqc\n",
        "!pip install cutadapt"
      ]
    },
    {
      "cell_type": "code",
      "execution_count": null,
      "metadata": {
        "id": "JY74vhggoflC"
      },
      "outputs": [],
      "source": [
        "# Again, code is included for reference but this step was already completed by the HGBC\n",
        "!cutadapt --length -65 -o trimmed_Father_L001_R1_001.fastq -p trimmed_Father_L001_R1.001.fastq\n",
        "!cutadapt --length -65 -o trimmed_Mother_L001_R1_001.fastq -p trimmed_Mother_L001_R1.001.fastq\n",
        "!cutadapt --length -65 -o trimmed_Son_L001_R1_001.fastq -p trimmed_Son_L001_R1.001.fastq"
      ]
    },
    {
      "cell_type": "markdown",
      "metadata": {
        "id": "FiRPWG6lpc9g"
      },
      "source": [
        "Alignment:BWA mem to align reads against reference genome"
      ]
    },
    {
      "cell_type": "code",
      "execution_count": null,
      "metadata": {
        "id": "PrTbMnQt5Neb"
      },
      "outputs": [],
      "source": [
        "### General imput structure: bwa mem index_prefix [input_reads.fastq|input_reads_pair_1.fastq input_reads_pair_2.fastq] [options]\n",
        "!bwa mem -t 32 -R \"@RG\\tID:Father\\tPL:ILLUMINA\\tSM:FATHER\" ..${dir}}hg.38.fa \\\n",
        "\t..${dir}Father_L001_R1_001.fastq.gz  ..${dir}Father_L001_R2_001.fastq.gz > father.paired.sam\n",
        "!bwa mem -t 32 -R \"@RG\\tID:Mother\\tPL:ILLUMINA\\tSM:MOTHER\" ..${dir}}hg.38.fa \\\n",
        "\t..${dir}Mother.fastq.gz  ..${dir}Mother_L001_R2_001.fastq.gz > mother.paired.sam\n",
        "!bwa mem -t 32 -R \"@RG\\tID:Son\\tPL:ILLUMINA\\tSM:SON\" ..${dir}}hg.38.fa \\\n",
        "\t..${dir}Son_L001_R1_001.fastq.gz  ..${dir}Son_L001_R2_001.fastq.gz > son.paired.sam"
      ]
    },
    {
      "cell_type": "markdown",
      "metadata": {
        "id": "MoJuwRmiVNDf"
      },
      "source": [
        "Marking Duplicates & BQSR Local Realignment"
      ]
    },
    {
      "cell_type": "code",
      "execution_count": null,
      "metadata": {
        "id": "sQn6cKsiVVHx"
      },
      "outputs": [],
      "source": [
        "### only done on the father's BAM file, run the following code on each family member\n",
        "!gatk-4.3.0.0/gatk - father.sorted.paired.sam\\\n",
        "  -O father.sorted.dedup.paired.sam -M metrics"
      ]
    },
    {
      "cell_type": "code",
      "execution_count": null,
      "metadata": {
        "id": "YatLE7UpVMRh"
      },
      "outputs": [],
      "source": [
        "!gatk-4.3.0.0/gatk BaseRecalibrator -I father_sorted_dedup_reads.bam \\\n",
        "\t-R ../hg38.fa --known-sites ../Homo_sapiens_assembly38.dbsnp138.vcf \\\n",
        "\t-O recal_data.table"
      ]
    },
    {
      "cell_type": "code",
      "execution_count": null,
      "metadata": {
        "id": "4FEQuUAOV7Ip"
      },
      "outputs": [],
      "source": [
        "!gatk-4.3.0.0/gatk ApplyBQSR -I father_sorted_dedup_reads.bam \\\n",
        "\t-R ../hg38.fa --bqsr-recal-file recal_data.table \\\n",
        "\t-O father_sorted_bqsr_dedup_reads.bam"
      ]
    },
    {
      "cell_type": "code",
      "execution_count": null,
      "metadata": {
        "id": "5UpHJOyPWCNm"
      },
      "outputs": [],
      "source": [
        "!gatk-4.3.0.0/gatk CollectAlignmentSummaryMetrics R=hg38.fa \\\n",
        "\t-I father_sorted_bqsr_dedup_reads.bam -O alignment_metrics.txt\n",
        "../gatk-4.3.0.0/gatk CollectInsertSizeMetrics \\\n",
        "\tINPUT=father_sorted_bqsr_dedup_reads.bam \\\n",
        "\tOUTPUT=insert_size_metrics.txt HISTOGRAM_FILE=histogram.pdf"
      ]
    },
    {
      "cell_type": "markdown",
      "metadata": {
        "id": "3kJ7LWXs1gD4"
      },
      "source": [
        "Variant Curation"
      ]
    },
    {
      "cell_type": "code",
      "execution_count": null,
      "metadata": {
        "id": "bN3fTi4EWJpm"
      },
      "outputs": [],
      "source": [
        "!gatk-4.3.0.0/gatk HaplotypeCaller -R ../hg38.fa \\\n",
        "\t-I father_sorted_bqsr_dedup_reads.bam -O raw_variants.vcf"
      ]
    },
    {
      "cell_type": "code",
      "execution_count": null,
      "metadata": {
        "id": "GEaIIvYYWQPT"
      },
      "outputs": [],
      "source": [
        "# Split VCF into SNPs and INDELS\n",
        "!gatk-4.3.0.0/gatk SelectVariants -R ../hg38.fa -V raw_variants.vcf --select-type SNP -O raw_snps.vcf\n",
        "!gatk-4.3.0.0/gatk SelectVariants -R ../hg38.fa -V raw_variants.vcf --select-type INDEL -O raw_indels.vcf"
      ]
    },
    {
      "cell_type": "code",
      "execution_count": null,
      "metadata": {
        "id": "ubcY03OzWcEQ"
      },
      "outputs": [],
      "source": [
        "#Filter INDELS and SNPS\n",
        "!gatk VariantFiltration \\\n",
        "-R ../hg38.fa \\\n",
        "-V raw_snps.vcf \\\n",
        "-O filtered_snps.vcf \\\n",
        "-filter-name \"QD_filter\" -filter \"QD < 2.0\" \\\n",
        "-filter-name \"FS_filter\" -filter \"FS > 60.0\" \\\n",
        "-filter-name \"MQ_filter\" -filter \"MQ < 40.0\" \\\n",
        "-filter-name \"SOR_filter\" -filter \"SOR > 4.0\" \\\n",
        "-filter-name \"MQRankSum_filter\" -filter \"MQRankSum < -12.5\" \\\n",
        "-filter-name \"ReadPosRankSum_filter\" -filter \"ReadPosRankSum < -8.0\" \\\n",
        "-genotype-filter-expression \"DP < 10\" \\\n",
        "-genotype-filter-name \"DP_filter\" \\\n",
        "-genotype-filter-expression \"GQ < 10\" \\\n",
        "-genotype-filter-name \"GQ_filter\""
      ]
    },
    {
      "cell_type": "code",
      "execution_count": null,
      "metadata": {
        "id": "mCj9U26YTuda"
      },
      "outputs": [],
      "source": [
        "!gatk-4.3.0.0/gatk SelectVariants \\\n",
        "  --exclude-filtered \\\n",
        "  -V filtered_snps.vcf \\\n",
        "  -O analysis-ready-snps.vcf\n",
        "  gatk-4.3.0.0/gatk SelectVariants \\\n",
        "  --exclude-filtered \\\n",
        "  -V filtered_indels.vcf \\\n",
        "  -O analysis-ready-indels.vcf"
      ]
    },
    {
      "cell_type": "markdown",
      "metadata": {
        "id": "vO5jKlZNCJyA"
      },
      "source": [
        "Funcotator: Annotating aligned reads + variant types + position"
      ]
    },
    {
      "cell_type": "code",
      "execution_count": null,
      "metadata": {
        "id": "zFDaoT_G4AeS"
      },
      "outputs": [],
      "source": [
        "#Enable gnomAD (default setting is disabled)\n",
        "#  cd DATA_SOURCES_DIR\n",
        "#          tar -zxf gnomAD_exome.tar.gz\n",
        "#          tar -zxf gnomAD_genome.tar.gz"
      ]
    },
    {
      "cell_type": "code",
      "execution_count": null,
      "metadata": {
        "colab": {
          "base_uri": "https://localhost:8080/"
        },
        "id": "unBdStMiCPjE",
        "outputId": "c7fd5941-1664-434f-fd9e-3810f15f0e60"
      },
      "outputs": [
        {
          "name": "stdout",
          "output_type": "stream",
          "text": [
            "/bin/bash: line 1: gatk-4.3.0.0/gatk: No such file or directory\n"
          ]
        }
      ],
      "source": [
        "!gatk-4.3.0.0/gatk Funcotator --variant analysis-ready-snps-filteredGT-father.vcf \\\n",
        "  --reference ~/hg38.fa --ref-version hg38 --data-sources-path ~/funcotator_dataSources.v1.7.20200521g \\\n",
        "  --output analysis-ready-snps-filteredGT-funcotated-father.vcf --output-file-format VCF"
      ]
    },
    {
      "cell_type": "code",
      "execution_count": null,
      "metadata": {
        "id": "mabXd9r1U_WB"
      },
      "outputs": [],
      "source": [
        "!gatk-4.3.0.0/gatk Funcotator --variant analysis-ready-indels-filteredGT.vcf \\\n",
        "  --reference ~/hg38.fa --ref-version hg38 --data-sources-path ~/funcotator_dataSources.v1.7.20200521g \\\n",
        "  --output analysis-ready-indels-filteredGT-funcotated.vcf --output-file-format VCF"
      ]
    },
    {
      "cell_type": "code",
      "execution_count": null,
      "metadata": {
        "id": "jh8bK7OkceoK"
      },
      "outputs": [],
      "source": [
        "#FuncotatorDataSourceDownloader\n",
        "!gatk FuncotatorDataSourceDownloader --germline --validate-integrity --extract-after-download"
      ]
    },
    {
      "cell_type": "markdown",
      "metadata": {
        "id": "aEQ0VTQejKg6"
      },
      "source": [
        "# **Variant Calling: Analysis Section**"
      ]
    },
    {
      "cell_type": "markdown",
      "metadata": {
        "id": "-Z9ATd9zr1XQ"
      },
      "source": [
        "Download funcotated VCFs for Family Trio"
      ]
    },
    {
      "cell_type": "code",
      "execution_count": null,
      "metadata": {
        "id": "fgp_D1PLRvo-"
      },
      "outputs": [],
      "source": [
        "from google.colab import drive\n",
        "drive.mount('/content/gdrive')\n",
        "%cd gdrive"
      ]
    },
    {
      "cell_type": "code",
      "execution_count": 5,
      "metadata": {
        "id": "vCq1VgORVgwg"
      },
      "outputs": [],
      "source": [
        "!cp /content/drive/MyDrive/NGS/father.vcf father.vcf\n",
        "!cp /content/drive/MyDrive/NGS/mother.vcf mother.vcf\n",
        "!cp /content/drive/MyDrive/NGS/son.vcf son.vcf"
      ]
    },
    {
      "cell_type": "markdown",
      "metadata": {
        "id": "n03ecMbQTgde"
      },
      "source": [
        "Creating TSVs for each family member: extract specified fields for each variant in a VCF file, output into a tab-delimited table"
      ]
    },
    {
      "cell_type": "code",
      "execution_count": null,
      "metadata": {
        "id": "uXzsscyW2C-v"
      },
      "outputs": [],
      "source": [
        "!grep '^chr' son.vcf | awk '{print $1\":\"$2\"\\t\"$8}' | sed 's/FUNCOTATION=\\[/\\t/g' | sed 's/|/\\t/g' | awk '{print $1\"\\t\"$3\"\\t\"$8}' > son_annotation.tsv\n",
        "!grep '^chr' father.vcf | awk '{print $1\":\"$2\"\\t\"$8}' | sed 's/FUNCOTATION=\\[/\\t/g' | sed 's/|/\\t/g' | awk '{print $1\"\\t\"$3\"\\t\"$8}' > father_annotation.tsv\n",
        "!grep '^chr' mother.vcf | awk '{print $1\":\"$2\"\\t\"$8}' | sed 's/FUNCOTATION=\\[/\\t/g' | sed 's/|/\\t/g' | awk '{print $1\"\\t\"$3\"\\t\"$8}' > mother_annotation.tsv"
      ]
    },
    {
      "cell_type": "code",
      "source": [
        "#creating data frames for manipulation\n",
        "import pandas\n",
        "\n",
        "son_df = pandas.read_csv('son_annotation.tsv', delimiter = '\\t')\n",
        "father_df = pandas.read_csv('father_annotation.tsv', delimiter = '\\t')\n",
        "mother_df = pandas.read_csv('mother_annotation.tsv', delimiter = '\\t')"
      ],
      "metadata": {
        "id": "6z8qy4nvV0xD"
      },
      "execution_count": 11,
      "outputs": []
    },
    {
      "cell_type": "code",
      "execution_count": 12,
      "metadata": {
        "id": "ua-IZIpV2Meg"
      },
      "outputs": [],
      "source": [
        "columns_annotation = ['ID', 'HUGO', 'CLASSIFICATION']\n",
        "\n",
        "son_annotation_df = pandas.read_csv('son_annotation.tsv', delimiter = '\\t', header=None, names= columns_annotation)\n",
        "mother_annotation_df = pandas.read_csv('mother_annotation.tsv', delimiter = '\\t', header=None, names= columns_annotation)\n",
        "father_annotation_df = pandas.read_csv('father_annotation.tsv', delimiter = '\\t', header=None, names= columns_annotation)\n"
      ]
    },
    {
      "cell_type": "code",
      "execution_count": null,
      "metadata": {
        "id": "IuKlYwbWT-Ds"
      },
      "outputs": [],
      "source": [
        "# process the 3rd field/column from the previous pipeline\n",
        "# remove duplicate entries\n",
        "# show how many of each variant type\n",
        "!awk '{print $3}' son_annotation.tsv | sort | uniq -c"
      ]
    },
    {
      "cell_type": "code",
      "execution_count": null,
      "metadata": {
        "id": "b2KZsB-256aa"
      },
      "outputs": [],
      "source": [
        "!awk '{print $3}' mother_annotation.tsv | sort | uniq -c"
      ]
    },
    {
      "cell_type": "code",
      "execution_count": null,
      "metadata": {
        "id": "UAsCFrje6Hv6"
      },
      "outputs": [],
      "source": [
        "!awk '{print $3}' father_annotation.tsv | sort | uniq -c"
      ]
    },
    {
      "cell_type": "code",
      "execution_count": null,
      "metadata": {
        "id": "g9PVyoE6Z_Lo"
      },
      "outputs": [],
      "source": [
        "#plotting distribution of variants across family\n",
        "import matplotlib.pyplot as plt\n",
        "import numpy as np\n",
        "\n",
        "Member = (\"Mother\", \"Father\", \"Son\")\n",
        "variant_types = {\n",
        "    'IGR': (1550812, 1466065, 1525709),\n",
        "    'Intron':(1295871,1290609, 1250060),\n",
        "    'RNA': (571007, 548878, 568237),\n",
        "    \"5'Flank\": (187859, 179662,186485),\n",
        "    \"3'UTR\": (31478 , 30325 , 31081),\n",
        "    \"Missense\": (9682, 9314, 9621),\n",
        "    #\"5'UTR\": (5874, 5605, 5874),\n",
        "\n",
        "}\n",
        "\n",
        "x = np.arange(len(Member))  # the label locations\n",
        "width = .65  # the width of the bars\n",
        "multiplier = 1.1\n",
        "\n",
        "fig, ax = plt.subplots(layout='constrained')\n",
        "\n",
        "for attribute, measurement in variant_types.items():\n",
        "    offset = width*1.98 * multiplier\n",
        "    rects = ax.bar(x*2.8 + offset*1.2, measurement, width*1.15, label=attribute)\n",
        "    ax.bar_label(rects, padding=5)\n",
        "    multiplier += 0.4\n",
        "\n",
        "# Add some text for labels, title and custom x-axis tick labels, etc.\n",
        "ax.set_ylabel('Variant Count')\n",
        "ax.set_title('Number of Variant Types across Family Trio')\n",
        "ax.set_xticks(x*3.2 + width*3.1, Member)\n",
        "ax.legend(loc='upper right', ncols=1)\n",
        "ax.set_ylim(0, 1650000)\n",
        "\n",
        "plt.show()"
      ]
    },
    {
      "cell_type": "markdown",
      "metadata": {
        "id": "Wow-tpj7sRgW"
      },
      "source": [
        "Parse through each VCF file using *cyvcf2*: read & extract file info based on variant annotation and genotype"
      ]
    },
    {
      "cell_type": "code",
      "execution_count": null,
      "metadata": {
        "id": "ZJllkRb7gJXu"
      },
      "outputs": [],
      "source": [
        "!pip install cyvcf2\n",
        "import cyvcf2"
      ]
    },
    {
      "cell_type": "code",
      "execution_count": null,
      "metadata": {
        "id": "S72Y-6SE1ijD"
      },
      "outputs": [],
      "source": [
        "# 0 indicates the reference allele and 1 indicates the alternative allele, i.e it is heterozygous.\n",
        "vcf_reader = cyvcf2.VCF('father.vcf')\n",
        "\n",
        "with open('father_annotation.tsv', 'w') as file:\n",
        "    for variant in vcf_reader:\n",
        "        genotype = variant.gt_types[0]\n",
        "        data_string = f\"{variant.CHROM}\\t{variant.POS}\\t{variant.ID}\\t{variant.REF}\\t{','.join(variant.ALT)}\\t{variant.QUAL}\\t{variant.INFO.get('DP')}\\t{variant.FILTER}\\t{genotype}\\n\"\n",
        "        file.write(data_string)"
      ]
    },
    {
      "cell_type": "code",
      "execution_count": 16,
      "metadata": {
        "id": "0LImMOhD1nWk"
      },
      "outputs": [],
      "source": [
        "vcf_reader = cyvcf2.VCF('son.vcf')\n",
        "\n",
        "with open('son_annotation.tsv', 'w') as file:\n",
        "    for variant in vcf_reader:\n",
        "        genotype = variant.gt_types[0]\n",
        "        data_string = f\"{variant.CHROM}\\t{variant.POS}\\t{variant.ID}\\t{variant.REF}\\t{','.join(variant.ALT)}\\t{variant.QUAL}\\t{variant.INFO.get('DP')}\\t{variant.FILTER}\\t{genotype}\\n\"\n",
        "        file.write(data_string)"
      ]
    },
    {
      "cell_type": "code",
      "execution_count": null,
      "metadata": {
        "id": "t0XKBd9G1piI"
      },
      "outputs": [],
      "source": [
        "vcf_reader = cyvcf2.VCF('mother.vcf')\n",
        "\n",
        "with open('mother_annotation.tsv', 'w') as file:\n",
        "    for variant in vcf_reader:\n",
        "        genotype = variant.gt_types[0]\n",
        "        data_string = f\"{variant.CHROM}\\t{variant.POS}\\t{variant.ID}\\t{variant.REF}\\t{','.join(variant.ALT)}\\t{variant.QUAL}\\t{variant.INFO.get('DP')}\\t{variant.FILTER}\\t{genotype}\\n\"\n",
        "        file.write(data_string)"
      ]
    },
    {
      "cell_type": "markdown",
      "metadata": {
        "id": "tdwh6t-usKDc"
      },
      "source": [
        "Populate VCF columns with relevant headers"
      ]
    },
    {
      "cell_type": "code",
      "execution_count": null,
      "metadata": {
        "id": "44HSDdgG1rcp"
      },
      "outputs": [],
      "source": [
        "columns = ['CHROM', 'POS', 'ID', 'REF', 'ALT', 'QUAL', 'DP', 'FILTER', 'GENOTYPE']\n",
        "father_df = pandas.read_csv('father_annotation.tsv', delimiter = '\\t', header=None, names= columns)\n",
        "mother_df = pandas.read_csv('mother_annotation.tsv', delimiter = '\\t', header=None, names= columns)\n",
        "son_df = pandas.read_csv('son_annotation.tsv', delimiter = '\\t', header=None, names= columns)"
      ]
    },
    {
      "cell_type": "code",
      "execution_count": null,
      "metadata": {
        "id": "XpO3ZumI1yel"
      },
      "outputs": [],
      "source": [
        "# populate ID column with CHR:POS (i.e the contig and genomic coordinates on which the variant occurs)\n",
        "# genome position: one column must contain the contig ID, another column must contain the start position (1-based, inclusive), and a column must contain the stop position (1-based, inclusive)\n",
        "father_df['ID'] = father_df['CHROM'].astype(str) + ':' + father_df['POS'].astype(str)\n",
        "mother_df['ID'] = mother_df['CHROM'].astype(str) + ':' + mother_df['POS'].astype(str)\n",
        "son_df['ID'] = son_df['CHROM'].astype(str) + ':' + son_df['POS'].astype(str)"
      ]
    },
    {
      "cell_type": "code",
      "execution_count": null,
      "metadata": {
        "id": "aWODy1cK2VnL"
      },
      "outputs": [],
      "source": [
        "# merging the final variant call dataframes with their respective annotations\n",
        "father_final_df = pandas.merge(father_df, father_annotation_df, on='ID', how='left')\n",
        "mother_final_df = pandas.merge(mother_df, mother_annotation_df, on='ID', how='left')\n",
        "son_final_df = pandas.merge(son_df, son_annotation_df, on='ID', how='left')"
      ]
    },
    {
      "cell_type": "markdown",
      "metadata": {
        "id": "NnoSiC7rouzy"
      },
      "source": [
        "Creating a Venn Diagram"
      ]
    },
    {
      "cell_type": "code",
      "execution_count": null,
      "metadata": {
        "id": "O_OnFLA-XM39"
      },
      "outputs": [],
      "source": [
        "!pip install matplotlib matplotlib-venn\n",
        "import matplotlib.pyplot as plt"
      ]
    },
    {
      "cell_type": "code",
      "execution_count": null,
      "metadata": {
        "id": "AbuTU6aCOqJF"
      },
      "outputs": [],
      "source": [
        "### Filtering by Genotype\n",
        "hmz_father = father_df[father_df['GENOTYPE'] == 3]['ID'].tolist()\n",
        "hmz_son = son_df[son_df['GENOTYPE'] == 3]['ID'].tolist()\n",
        "hmz_mother = mother_df[mother_df['GENOTYPE'] == 3]['ID'].tolist()"
      ]
    },
    {
      "cell_type": "code",
      "execution_count": null,
      "metadata": {
        "id": "nEyHRPpvoz4Z"
      },
      "outputs": [],
      "source": [
        "### Documentation: https://pypi.org/project/matplotlib-venn/\n",
        "!pip install matplotlib matplotlib-venn\n",
        "from matplotlib_venn import venn3"
      ]
    },
    {
      "cell_type": "code",
      "execution_count": null,
      "metadata": {
        "id": "S2wCLexl1_I6"
      },
      "outputs": [],
      "source": [
        "### Elements:\n",
        "set1 = set(hmz_father)\n",
        "set2 = set(hmz_son)\n",
        "set3 = set(hmz_mother)\n",
        "\n",
        "# Create the Venn diagram for two sets\n",
        "venn3([set1, set3, set2], ('Father', 'Mother', 'Son'))"
      ]
    },
    {
      "cell_type": "markdown",
      "metadata": {
        "id": "CtUQPYDR2POp"
      },
      "source": [
        "Variant Identification"
      ]
    },
    {
      "cell_type": "code",
      "execution_count": null,
      "metadata": {
        "id": "HgWdpIoI2dCw"
      },
      "outputs": [],
      "source": [
        "# making a data frame with genes in hpo datbase of genes associated with intellectual disability\n",
        "# here, we downloaded the gene list above, and created a dataframe\n",
        "import pandas\n",
        "dd_genes_df = pandas.read_excel('genes_for_HP_0001249.xlsx')"
      ]
    },
    {
      "cell_type": "code",
      "execution_count": null,
      "metadata": {
        "id": "hZJBsJOM2kO_"
      },
      "outputs": [],
      "source": [
        "# from the ID gene dataframe, we created a list of just the gene names\n",
        "genes_list = ()\n",
        "genes_list = dd_genes_df['GENE_SYMBOL'].tolist()\n",
        "genes_list"
      ]
    },
    {
      "cell_type": "markdown",
      "source": [
        "SON SPLCE SITE TRANSITIONS/TRANSVERSIONS"
      ],
      "metadata": {
        "id": "ZkiRPzXZCRnA"
      }
    },
    {
      "cell_type": "code",
      "source": [
        "# Transversions: a point mutation in which a single (two ring) purine (A or G) is changed for a (one ring) pyrimidine (T or C), or vice versa"
      ],
      "metadata": {
        "id": "nbAtuJjjYndx"
      },
      "execution_count": null,
      "outputs": []
    },
    {
      "cell_type": "code",
      "source": [
        "# SS_transversions_son = (205058662, 54195684, 61398269, 4278918, 123422574,  )\n",
        "# ss_transitions_son_df = pandas.read_excel('ss_transitions_son.xlsx')\n",
        "# SS_transitions_son = ()\n",
        "# SS_transitions_son = ss_transitions_son_df['TRANSITIONS'].tolist()\n",
        "# SS_transitions =(3138124, 22812901, 24102572, 8163465, 1056066, 7528703, 36084743, 39504071, 49864236, 26386353, 111847725, 134559428, 16018539, 103556978)\n",
        "\n",
        "son_ID = son_df[son_df['HUGO'].isin(genes_list)]\n",
        "son_ID\n",
        "classifications_list = ['SPLICE_SITE']\n",
        "son_ID = son_ID[son_ID['CLASSIFICATION'].isin(classifications_list)]\n",
        "son_ID\n",
        "son_ID_filtered_transversions = son_ID_filtered[son_ID_filtered['POS'].isin(SS_transversions)]\n",
        "son_ID_filtered_transitions = son_ID_filtered[son_ID_filtered['POS'].isin(SS_transitions)"
      ],
      "metadata": {
        "id": "pIOiqjxVtRzs"
      },
      "execution_count": null,
      "outputs": []
    },
    {
      "cell_type": "code",
      "source": [
        "import matplotlib.pyplot as plt\n",
        "import numpy as np\n",
        "\n",
        "from matplotlib.patches import ConnectionPatch\n",
        "\n",
        "# make figure and assign axis objects\n",
        "fig, (ax1, ax2) = plt.subplots(1, 2, figsize=(9, 5))\n",
        "fig.subplots_adjust(wspace=0)\n",
        "\n",
        "# pie chart parameters\n",
        "overall_ratios = [.15, .85]\n",
        "labels = ['Transversions', 'Transitions']\n",
        "explode = [0.1, 0,]\n",
        "# rotate so that first wedge is split by the x-axis\n",
        "angle = -180 * overall_ratios[0]\n",
        "wedges, *_ = ax1.pie(overall_ratios, autopct='%1.1f%%', startangle=angle,\n",
        "                     labels=labels, explode=explode)\n",
        "\n",
        "# bar chart parameters\n",
        "age_ratios = [.16, .16, .16, .16, .36]\n",
        "age_labels = ['CCND2', 'CEP120', 'CNTN2', 'PCDH15', 'TMEM216']\n",
        "bottom = 1\n",
        "width = .05\n",
        "\n",
        "# Adding from the top matches the legend.\n",
        "for j, (height, label) in enumerate(reversed([*zip(age_ratios, age_labels)])):\n",
        "    bottom -= height\n",
        "    bc = ax2.bar(0, height, width, bottom=bottom, color='C0', label=label,\n",
        "                 alpha=0.0 + 0.25 * j)\n",
        "    ax2.bar_label(bc, labels=[f\"{height:.0%}\"], label_type='center')\n",
        "\n",
        "ax2.set_title('Son: Genes with S.S Transversions')\n",
        "ax2.legend()\n",
        "ax2.axis('off')\n",
        "ax2.set_xlim(- 2.5 * width, 2.5 * width)\n",
        "\n",
        "# use ConnectionPatch to draw lines between the two plots\n",
        "theta1, theta2 = wedges[0].theta1, wedges[0].theta2\n",
        "center, r = wedges[0].center, wedges[0].r\n",
        "bar_height = sum(age_ratios)\n",
        "\n",
        "# draw top connecting line\n",
        "x = r * np.cos(np.pi / 180 * theta2) + center[0]\n",
        "y = r * np.sin(np.pi / 180 * theta2) + center[1]\n",
        "con = ConnectionPatch(xyA=(-width / 2, bar_height), coordsA=ax2.transData,\n",
        "                      xyB=(x, y), coordsB=ax1.transData)\n",
        "con.set_color([0, 0, 0])\n",
        "con.set_linewidth(4)\n",
        "ax2.add_artist(con)\n",
        "\n",
        "# draw bottom connecting line\n",
        "x = r * np.cos(np.pi / 180 * theta1) + center[0]\n",
        "y = r * np.sin(np.pi / 180 * theta1) + center[1]\n",
        "con = ConnectionPatch(xyA=(-width / 2, 0), coordsA=ax2.transData,\n",
        "                      xyB=(x, y), coordsB=ax1.transData)\n",
        "con.set_color([0, 0, 0])\n",
        "ax2.add_artist(con)\n",
        "con.set_linewidth(4)\n",
        "\n",
        "plt.show()"
      ],
      "metadata": {
        "id": "rkdbRbM1GUx-",
        "colab": {
          "base_uri": "https://localhost:8080/",
          "height": 444
        },
        "outputId": "1fc67acf-76ef-4392-fac3-e3895dc21071"
      },
      "execution_count": null,
      "outputs": [
        {
          "output_type": "display_data",
          "data": {
            "text/plain": [
              "<Figure size 900x500 with 2 Axes>"
            ],
            "image/png": "[encoded data removed]"
          },
          "metadata": {}
        }
      ]
    },
    {
      "cell_type": "markdown",
      "source": [
        "Father SS transitions/transversions"
      ],
      "metadata": {
        "id": "jb-tO61JWRum"
      }
    },
    {
      "cell_type": "code",
      "source": [
        "father_ID = father_df[father_df['HUGO'].isin(genes_list)]\n",
        "father_ID\n",
        "\n",
        "classifications_list = ['SPLICE_SITE']\n",
        "father_ID_filtered = father_ID[father_ID['CLASSIFICATION'].isin(classifications_list)]\n",
        "#father_ID_filtered\n",
        "father_ID_filtered_1 = father_ID_filtered[father_ID_filtered['GENOTYPE'] == 1]\n",
        "father_ID_filtered_1\n",
        "# father_ID_filtered_transversions = father_ID_filtered_1[father_ID_filtered_1['POS'].isin(SS_transversions)]\n",
        "# father_ID_filtered_transitions = father_ID_filtered_1[father_ID_filtered_1['POS'].isin(SS_transitions)]"
      ],
      "metadata": {
        "id": "8KgErMWKuRzs"
      },
      "execution_count": null,
      "outputs": []
    },
    {
      "cell_type": "code",
      "source": [
        "import matplotlib.pyplot as plt\n",
        "import numpy as np\n",
        "\n",
        "from matplotlib.patches import ConnectionPatch\n",
        "\n",
        "# make figure and assign axis objects\n",
        "fig, (ax1, ax2) = plt.subplots(1, 2, figsize=(9, 5))\n",
        "fig.subplots_adjust(wspace=0)\n",
        "\n",
        "# pie chart parameters\n",
        "overall_ratios = [.26, .74]\n",
        "labels = ['Transversions', 'Transitions']\n",
        "explode = [0.1, 0,]\n",
        "# rotate so that first wedge is split by the x-axis\n",
        "angle = -180 * overall_ratios[0]\n",
        "wedges, *_ = ax1.pie(overall_ratios, autopct='%1.1f%%', startangle=angle,\n",
        "                     labels=labels, explode=explode)\n",
        "\n",
        "# bar chart parameters\n",
        "age_ratios = [.16, .16, .16, .16, .16, .16]\n",
        "age_labels = ['ASH1L','CCND2', 'CEP120', 'FANCA', 'NECAP1','PCDH15' ]\n",
        "bottom = 1\n",
        "width = .05\n",
        "\n",
        "# Adding from the top matches the legend.\n",
        "for j, (height, label) in enumerate(reversed([*zip(age_ratios, age_labels)])):\n",
        "    bottom -= height\n",
        "    bc = ax2.bar(0, height, width, bottom=bottom, color='C0', label=label,\n",
        "                 alpha= 0.000 + 0.05 * j)\n",
        "    ax2.bar_label(bc, labels=[f\"{height:.0%}\"], label_type='center')\n",
        "\n",
        "ax2.set_title('Father: Genes with S.S Heterozygous Transversions')\n",
        "ax2.legend()\n",
        "ax2.axis('off')\n",
        "ax2.set_xlim(- 2.5 * width, 2.5 * width)\n",
        "\n",
        "# use ConnectionPatch to draw lines between the two plots\n",
        "theta1, theta2 = wedges[0].theta1, wedges[0].theta2\n",
        "center, r = wedges[0].center, wedges[0].r\n",
        "bar_height = sum(age_ratios)\n",
        "\n",
        "# draw top connecting line\n",
        "x = r * np.cos(np.pi / 180 * theta2) + center[0]\n",
        "y = r * np.sin(np.pi / 180 * theta2) + center[1]\n",
        "con = ConnectionPatch(xyA=(-width / 2, bar_height), coordsA=ax2.transData,\n",
        "                      xyB=(x, y), coordsB=ax1.transData)\n",
        "con.set_color([0, 0, 0])\n",
        "con.set_linewidth(4)\n",
        "ax2.add_artist(con)\n",
        "\n",
        "# draw bottom connecting line\n",
        "x = r * np.cos(np.pi / 180 * theta1) + center[0]\n",
        "y = r * np.sin(np.pi / 180 * theta1) + center[1]\n",
        "con = ConnectionPatch(xyA=(-width / 2, 0), coordsA=ax2.transData,\n",
        "                      xyB=(x, y), coordsB=ax1.transData)\n",
        "con.set_color([0, 0, 0])\n",
        "ax2.add_artist(con)\n",
        "con.set_linewidth(4)\n",
        "\n",
        "plt.show()"
      ],
      "metadata": {
        "colab": {
          "base_uri": "https://localhost:8080/",
          "height": 459
        },
        "id": "xw5oD76CMa7u",
        "outputId": "6ddef220-6d3c-408b-bd1e-77e1a66c73d8"
      },
      "execution_count": null,
      "outputs": [
        {
          "output_type": "display_data",
          "data": {
            "text/plain": [
              "<Figure size 900x500 with 2 Axes>"
            ],
            "image/png": "[encoded data removed]"
          },
          "metadata": {}
        }
      ]
    },
    {
      "cell_type": "markdown",
      "source": [
        "Mother SS transitions/transversions"
      ],
      "metadata": {
        "id": "oNtrhrluWgjY"
      }
    },
    {
      "cell_type": "code",
      "source": [
        "mother_ID = mother_df[mother_df['HUGO'].isin(genes_list)]\n",
        "mother_ID\n",
        "\n",
        "classifications_list = ['SPLICE_SITE']\n",
        "mother_ID_filtered = mother_ID[mother_ID['CLASSIFICATION'].isin(classifications_list)]\n",
        "mother_ID_filtered\n",
        "mother_ID_filtered_1 = mother_ID_filtered[mother_ID_filtered['GENOTYPE'] == 1]\n",
        "# mother_ID_filtered_transversions = mother_ID_filtered_1[mother_ID_filtered_1['POS'].isin(SS_transversions)]\n",
        "# mother_ID_filtered_transitions = mother_ID_filtered_1[mother_ID_filtered_1['POS'].isin(SS_transitions)]\n",
        "# Positions:\n",
        "# SS_transversions = (205058662, 24328283, 55464826)\n",
        "# SS_transitions =(3138124, 22812901, 24102572, 8163465, 1056066, 7528703, 36084743, 39504071, 49864236, 26386353, 111847725, 134559428, 16018539, 103556978)"
      ],
      "metadata": {
        "id": "uavAbkXFOl6f"
      },
      "execution_count": null,
      "outputs": []
    },
    {
      "cell_type": "code",
      "source": [
        "import matplotlib.pyplot as plt\n",
        "import numpy as np\n",
        "\n",
        "from matplotlib.patches import ConnectionPatch\n",
        "\n",
        "# make figure and assign axis objects\n",
        "fig, (ax1, ax2) = plt.subplots(1, 2, figsize=(9, 5))\n",
        "fig.subplots_adjust(wspace=0)\n",
        "\n",
        "# pie chart parameters\n",
        "overall_ratios = [.175, .825]\n",
        "labels = ['Transversion', 'Transition']\n",
        "explode = [0.1, 0]\n",
        "# rotate so that first wedge is split by the x-axis\n",
        "angle = -180 * overall_ratios[0]\n",
        "wedges, *_ = ax1.pie(overall_ratios, autopct='%1.1f%%', startangle=angle,\n",
        "                     labels=labels, explode=explode)\n",
        "\n",
        "# bar chart parameters\n",
        "age_ratios = [.333,.333,.333]\n",
        "age_labels = ['CNTN2', 'PWRN1', 'MMP2']\n",
        "bottom = 1\n",
        "width = .2\n",
        "\n",
        "# Adding from the top matches the legend.\n",
        "for j, (height, label) in enumerate(reversed([*zip(age_ratios, age_labels)])):\n",
        "    bottom -= height\n",
        "    bc = ax2.bar(0, height, width, bottom=bottom, color='C0', label=label,\n",
        "                 alpha=0.1 + 0.25 * j)\n",
        "    ax2.bar_label(bc, labels=[f\"{height:.0%}\"], label_type='center')\n",
        "\n",
        "ax2.set_title('Mother: Genes with Heterozygous S.S Transversions')\n",
        "ax2.legend()\n",
        "ax2.axis('off')\n",
        "ax2.set_xlim(- 2.5 * width, 2.5 * width)\n",
        "\n",
        "# use ConnectionPatch to draw lines between the two plots\n",
        "theta1, theta2 = wedges[0].theta1, wedges[0].theta2\n",
        "center, r = wedges[0].center, wedges[0].r\n",
        "bar_height = sum(age_ratios)\n",
        "\n",
        "# draw top connecting line\n",
        "x = r * np.cos(np.pi / 180 * theta2) + center[0]\n",
        "y = r * np.sin(np.pi / 180 * theta2) + center[1]\n",
        "con = ConnectionPatch(xyA=(-width / 2, bar_height), coordsA=ax2.transData,\n",
        "                      xyB=(x, y), coordsB=ax1.transData)\n",
        "con.set_color([0, 0, 0])\n",
        "con.set_linewidth(4)\n",
        "ax2.add_artist(con)\n",
        "\n",
        "# draw bottom connecting line\n",
        "x = r * np.cos(np.pi / 180 * theta1) + center[0]\n",
        "y = r * np.sin(np.pi / 180 * theta1) + center[1]\n",
        "con = ConnectionPatch(xyA=(-width / 2, 0), coordsA=ax2.transData,\n",
        "                      xyB=(x, y), coordsB=ax1.transData)\n",
        "con.set_color([0, 0, 0])\n",
        "ax2.add_artist(con)\n",
        "con.set_linewidth(4)\n",
        "\n",
        "plt.show()"
      ],
      "metadata": {
        "colab": {
          "base_uri": "https://localhost:8080/",
          "height": 444
        },
        "id": "Vh_91Ga0rTm0",
        "outputId": "45e9e855-bce7-4265-ebb2-95b3b25bf69a"
      },
      "execution_count": null,
      "outputs": [
        {
          "output_type": "display_data",
          "data": {
            "text/plain": [
              "<Figure size 900x500 with 2 Axes>"
            ],
            "image/png": "[encoded data removed]"
          },
          "metadata": {}
        }
      ]
    },
    {
      "cell_type": "code",
      "execution_count": null,
      "metadata": {
        "id": "cIKg7V-vbKus"
      },
      "outputs": [],
      "source": [
        "#A pie chart for the different types of variants in the son\n",
        "# (i'm doing this manually because I still have to figure out a better way to plot this)\n",
        "#import pandas\n",
        "#SON\n",
        "import plotly.graph_objects as go\n",
        "Classifications = ['COULD_NOT_DETERMINE', ' DE_NOVO_START_IN_FRAME', 'DE_NOVO_START_OUT_FRAME', 'FIVE_PRIME_FLANK', 'FIVE_PRIME_UTR', 'IGR', 'INTRON', 'MISSENSE', 'NONSENSE', 'NONSTOP','RNA', 'SILENT','SPLICE_SITE', 'START_CODON_SNP', 'THREE_PRIME_UTR']\n",
        "Variants = [1732, 27, 62, 186485, 5874, 1525709, 1290609, 9621, 77, 16, 568237, 10589, 878, 7, 31081]\n",
        "\n",
        "fig = go.Figure(data=go.Pie(\n",
        "    labels=Classifications,\n",
        "    values=Variants\n",
        "))\n",
        "fig.show()\n",
        "#FATHER\n",
        "import plotly.graph_objects as go\n",
        "Classifications = ['COULD_NOT_DETERMINE', ' DE_NOVO_START_IN_FRAME', 'DE_NOVO_START_OUT_FRAME', 'FIVE_PRIME_FLANK', 'FIVE_PRIME_UTR', 'IGR', 'INTRON', 'MISSENSE', 'NONSENSE', 'NONSTOP','RNA', 'SILENT','SPLICE_SITE', 'START_CODON_SNP', 'THREE_PRIME_UTR']\n",
        "Variants = [1732, 27, 62, 186485, 5874, 1525709, 1290609, 9621, 77, 16, 568237, 10589, 878, 7, 31081]\n",
        "\n",
        "fig = go.Figure(data=go.Pie(\n",
        "    labels=Classifications,\n",
        "    values=Variants\n",
        "))\n",
        "fig.show()\n",
        "#MOTHER\n",
        "\n",
        "import plotly.graph_objects as go\n",
        "Classifications = ['COULD_NOT_DETERMINE', ' DE_NOVO_START_IN_FRAME', 'DE_NOVO_START_OUT_FRAME', 'FIVE_PRIME_FLANK', 'FIVE_PRIME_UTR', 'IGR', 'INTRON', 'MISSENSE', 'NONSENSE', 'NONSTOP','RNA', 'SILENT','SPLICE_SITE', 'START_CODON_SNP', 'THREE_PRIME_UTR']\n",
        "Variants = [1732, 27, 62, 186485, 5874, 1525709, 1290609, 9621, 77, 16, 568237, 10589, 878, 7, 31081]\n",
        "\n",
        "fig = go.Figure(data=go.Pie(\n",
        "    labels=Classifications,\n",
        "    values=Variants\n",
        "))\n",
        "fig.show()"
      ]
    },
    {
      "cell_type": "markdown",
      "source": [
        "# **Finding Variants for Curation**"
      ],
      "metadata": {
        "id": "b0oL3CsoggeL"
      }
    },
    {
      "cell_type": "code",
      "execution_count": null,
      "metadata": {
        "id": "rrxyLQBMWxJv"
      },
      "outputs": [],
      "source": [
        "# If we want to filter for homozygous variants\n",
        "hmzson_ID_filtered = son_ID_filtered[son_ID_filtered['GENOTYPE']== 3]"
      ]
    },
    {
      "cell_type": "code",
      "execution_count": null,
      "metadata": {
        "id": "yuxBRzST26Xj"
      },
      "outputs": [],
      "source": [
        "#If we want to count how many genes are in either filtered list\n",
        "son_ID_filtered.count()\n",
        "hmzson_ID_filtered.count()\n",
        "#another way to count variants:\n",
        "len(hmzson_ID_filtered)"
      ]
    },
    {
      "cell_type": "code",
      "execution_count": null,
      "metadata": {
        "id": "iXs332f624b-"
      },
      "outputs": [],
      "source": [
        "# we selected variants with gene names matching those from hpo ID gene list\n",
        "# https://hpo.jax.org/app/browse/term/HP:0002194\n",
        "son_ID_genes = son_df[son_df['HUGO'].isin(genes_list)]\n",
        "son_ID_genes"
      ]
    },
    {
      "cell_type": "code",
      "execution_count": null,
      "metadata": {
        "id": "h-pRWPJD28qs"
      },
      "outputs": [],
      "source": [
        "# filtering matches with more likely-pathogenic variant types\n",
        "classifications_list = ('SPLICE_SITE', 'DE_NOVO_START_OUT_FRAME', 'NONSENSE', 'MISSENSE')\n",
        "son_ID_filtered = son_ID_genes[son_ID_genes['CLASSIFICATION'].isin(classifications_list)]\n",
        "son_ID_filtered"
      ]
    },
    {
      "cell_type": "code",
      "source": [
        "son_ID_genes = son_ID_genes[son_ID_genes['HUGO'].isin(genes_list)]\n",
        "son_ID_genes_HECW2 = son_ID_genes[son_ID_genes['HUGO']=='HECW2']\n",
        "son_ID_genes_HECW2"
      ],
      "metadata": {
        "id": "wEpVPuAA9P8R"
      },
      "execution_count": null,
      "outputs": []
    },
    {
      "cell_type": "code",
      "execution_count": null,
      "metadata": {
        "id": "ZB2rBd_JXcjw"
      },
      "outputs": [],
      "source": [
        "# Selecting only variants for a specific gene of interest\n",
        "son_gene = son_df[son_df['HUGO'] == 'HECW2']\n",
        "son_gene_variant = son_gene[son_gene['CLASSIFICATION'] == 'FIVE_PRIME_UTR']\n",
        "son_gene_variant"
      ]
    },
    {
      "cell_type": "code",
      "execution_count": null,
      "metadata": {
        "id": "JpEcTp7j3Ep5"
      },
      "outputs": [],
      "source": [
        "#confirming if the variant is present in the father & mother\n",
        "# father_HEW2 = father_ID_filtered[father_ID_filtered['HUGO']=='HEW2']\n",
        "# father_HEW2\n",
        "mom_HECW2_df = mother_df[mother_df['HUGO']=='HECW2']\n",
        "mom_HECW2_df.count()\n",
        "\n",
        "variant_MH = mom_HECW2_df[mom_HECW2_df['CLASSIFICATION']=='INTRON']\n",
        "variant_MH.count()"
      ]
    },
    {
      "cell_type": "code",
      "source": [
        "mom_HECW2_INTRON = ()\n",
        "mom_HECW2_INTRON = variant_MH['POS'].tolist()\n",
        "#mom_HECW2_INTRON\n",
        "son_gene_variant[son_gene_variant['POS'].isin(mom_HECW2_INTRON)]"
      ],
      "metadata": {
        "id": "JpM6VtwMB3oG"
      },
      "execution_count": null,
      "outputs": []
    },
    {
      "cell_type": "code",
      "source": [
        "# counts associated with HECW2 variants\n",
        "son_ID_genes_HECW2_variant = son_ID_genes_HECW2[son_ID_genes_HECW2['CLASSIFICATION']=='SILENT']\n",
        "son_ID_genes_HECW2_variant.count()"
      ],
      "metadata": {
        "id": "D3VGc1xH_XoN"
      },
      "execution_count": null,
      "outputs": []
    },
    {
      "cell_type": "code",
      "source": [
        "#de-novo variants\n",
        "total_mom = ()\n",
        "total_mom = mother_df['POS'].tolist()\n",
        "\n",
        "total_dad = ()\n",
        "total_dad = father_df['POS'].tolist()"
      ],
      "metadata": {
        "id": "g7azVPBZUugN"
      },
      "execution_count": null,
      "outputs": []
    },
    {
      "cell_type": "code",
      "source": [
        "mother_son = son_df[son_df['POS'].isin(total_mom)]\n",
        "mother_son.count()"
      ],
      "metadata": {
        "id": "LtG1G0CAVKMN"
      },
      "execution_count": null,
      "outputs": []
    },
    {
      "cell_type": "code",
      "source": [
        "father_son = son_df[son_df['POS'].isin(total_dad)]\n",
        "father_son.count()"
      ],
      "metadata": {
        "id": "nVJbhJFnVtOU"
      },
      "execution_count": null,
      "outputs": []
    },
    {
      "cell_type": "code",
      "source": [
        "Mother_father = father_df[father_df['POS'].isin(total_mom)]\n",
        "Mother_father.count()"
      ],
      "metadata": {
        "id": "wvZ_Zs1HYQ_3"
      },
      "execution_count": null,
      "outputs": []
    },
    {
      "cell_type": "code",
      "source": [
        "Mother_father_list = ()\n",
        "Mother_father_list = Mother_father['POS'].tolist()"
      ],
      "metadata": {
        "id": "aaL7TaFhbM-9"
      },
      "execution_count": null,
      "outputs": []
    },
    {
      "cell_type": "code",
      "source": [
        "all_three = son_df[son_df['POS'].isin(Mother_father_list)]\n",
        "all_three.count()"
      ],
      "metadata": {
        "id": "nL3jgr9oa3Ac"
      },
      "execution_count": null,
      "outputs": []
    },
    {
      "cell_type": "code",
      "source": [
        "father_FLG = father_df[father_df['POS']== 152308194]\n",
        "father_FLG"
      ],
      "metadata": {
        "id": "C-9L0Ly7BQdu"
      },
      "execution_count": null,
      "outputs": []
    },
    {
      "cell_type": "code",
      "source": [
        "father_TMEM = father_ID_filtered[father_ID_filtered['HUGO']== 'TMEM216']\n",
        "father_TMEM"
      ],
      "metadata": {
        "id": "sujVD2c53zSy"
      },
      "execution_count": null,
      "outputs": []
    },
    {
      "cell_type": "code",
      "source": [
        "mother_TMEM = mother_ID_filtered[mother_ID_filtered['HUGO']== 'TMEM216']\n",
        "mother_TMEM"
      ],
      "metadata": {
        "id": "CmjdX51g4H3o"
      },
      "execution_count": null,
      "outputs": []
    },
    {
      "cell_type": "code",
      "source": [
        "# son_ID_filtered_PCDH15 = son_df[son_df['HUGO']=='PCDH15']\n",
        "# son_ID_filtered_PCDH15_interst = son_ID_filtered_PCDH15[son_ID_filtered_PCDH15['CLASSIFICATION']=='DE_NOVO_START']\n",
        "classifications_list = ['DE_NOVO_START_IN_FRAME']\n",
        "son_ID = son_ID[son_ID['CLASSIFICATION'].isin(classifications_list)]\n",
        "son_ID"
      ],
      "metadata": {
        "id": "BZf606bqBwsy"
      },
      "execution_count": null,
      "outputs": []
    },
    {
      "cell_type": "code",
      "source": [
        "classifications_list = ['NONSENSE']\n",
        "son_ID_int = son_ID[son_ID['CLASSIFICATION'].isin(classifications_list)]\n",
        "son_ID_int"
      ],
      "metadata": {
        "id": "8JKp6KMODvRr"
      },
      "execution_count": null,
      "outputs": []
    },
    {
      "cell_type": "code",
      "source": [
        "mother_FLG = mother_df[mother_df['POS']== 152308194]\n",
        "mother_FLG"
      ],
      "metadata": {
        "id": "mQ2OwMvwFBB9"
      },
      "execution_count": null,
      "outputs": []
    }
  ],
  "metadata": {
    "colab": {
      "collapsed_sections": [
        "qZjek1XGjxuM"
      ],
      "provenance": [],
      "mount_file_id": "14dPANqa54k3FeKQfu1WTGn08kKLlHk_e",
      "authorship_tag": "ABX9TyN7M61lXiMI1n0gXf459jFM",
      "include_colab_link": true
    },
    "kernelspec": {
      "display_name": "Python 3",
      "name": "python3"
    },
    "language_info": {
      "name": "python"
    }
  },
  "nbformat": 4,
  "nbformat_minor": 0
}