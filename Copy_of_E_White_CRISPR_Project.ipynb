{
  "nbformat": 4,
  "nbformat_minor": 0,
  "metadata": {
    "colab": {
      "provenance": [],
      "authorship_tag": "ABX9TyNckQmnrBnGCF5FgzCyQsFe",
      "include_colab_link": true
    },
    "kernelspec": {
      "name": "python3",
      "display_name": "Python 3"
    },
    "language_info": {
      "name": "python"
    }
  },
  "cells": [
    {
      "cell_type": "markdown",
      "metadata": {
        "id": "view-in-github",
        "colab_type": "text"
      },
      "source": [
        "<a href=\"https://colab.research.google.com/github/e-white25/Working-with-CRIPSR-data-QC-BWA-SAMtools-BCFtools/blob/main/Copy_of_E_White_CRISPR_Project.ipynb\" target=\"_parent\"><img src=\"https://colab.research.google.com/assets/colab-badge.svg\" alt=\"Open In Colab\"/></a>"
      ]
    },
    {
      "cell_type": "code",
      "execution_count": null,
      "metadata": {
        "id": "z-BM1I-Zv4hF"
      },
      "outputs": [],
      "source": [
        "#CRIPSPR Sample data\n",
        "!gdown 1-96T1PZKA_FQeD_ZK5z9USaHLP3jVdRO\n",
        "!gdown 1-BXGr3XVGtd9Tx6PCHSp4hepK41GGCTS\n",
        "\n",
        "#indexed mouse genome, mm10.\n",
        "!gdown 1a8CP4P5zkzIBiw1EleqJiSwDW0VZcAar"
      ]
    },
    {
      "cell_type": "code",
      "source": [
        "!tar -xf MM10.tar\n",
        "!gzip -df MM10.tar.gz\n",
        "# this command extracts the tar file to the current working folder/directory\n",
        "# the [!gzip -df] command is compressing the collection of mouse genome data files; the .tar.gz indicates that the compressed \"MM10\" file is a tar file, i.e it contains multiple files, likely per individual chromosome or region of the genome"
      ],
      "metadata": {
        "id": "-LyjGYWq6gn4",
        "colab": {
          "base_uri": "https://localhost:8080/"
        },
        "outputId": "bdfceb84-9c93-457a-d5cb-c00e3400bffb"
      },
      "execution_count": null,
      "outputs": [
        {
          "output_type": "stream",
          "name": "stdout",
          "text": [
            "gzip: MM10.tar.gz: No such file or directory\n"
          ]
        }
      ]
    },
    {
      "cell_type": "code",
      "source": [
        "!apt install bwa\n",
        "!apt install samtools\n",
        "!apt install bcftools\n",
        "\n",
        "# The mouse genome was already indexed for us; had we been given the raw file, BWA first requires an FM-index is created for the reference genome (via the index command)\n",
        "# Had we not been given an indexed file, the command is: !bwa index -p MouseRef MM10/Mouse.fasta\n",
        "# The index file had also already undergone the Burrows-Wheeler Transformation, allowing for an efficiently, and reversably compressed reference genome file\n",
        "# BWA (Burrows-Wheeler Alignment Tool) uses a matrix algorithm to align CRISPR input reads to the mouse reference genome\n",
        "# SAMtools is a software package for high-throughput sequencing data analysis\n",
        "# BCFtools are used to manipulate variant call files (VCF) and binary call files (BCF); BCF tools can be used for compressed and uncompressed files."
      ],
      "metadata": {
        "id": "qE-hC_A_0Njd"
      },
      "execution_count": null,
      "outputs": []
    },
    {
      "cell_type": "code",
      "source": [
        "!sudo apt-get install -y default-jre\n",
        "!wget https://www.bioinformatics.babraham.ac.uk/projects/fastqc/fastqc_v0.11.9.zip\n",
        "!unzip fastqc_v0.11.9.zip\n",
        "!chmod +x FastQC/fastqc\n",
        "!pip install cutadapt\n",
        "\n",
        "# sudo is a library required to run SAMtools\n",
        "# chmod command stands for \"change mode\" to change the permissions of files and directories.\n",
        "# +x 'executes' permission to the specified file or directory: FastQC/fastqc: This is the path to the file/directory we are changing permissions for\n",
        "# cutadapt is a bioinformatics tool for processing high-throughput sequencing data; it will be used to remove low QC data and unwanted sequences, i.e. seq. data with primer interference"
      ],
      "metadata": {
        "id": "wOJ4jT4M1Fh0"
      },
      "execution_count": null,
      "outputs": []
    },
    {
      "cell_type": "code",
      "source": [
        "!cutadapt --length -65 -o trimmed_CRISPR.R1.fastq -p trimmed_CRISPR.R2.fastq CRISPR.R1.fastq CRISPR.R2.fastq\n",
        "#trimming off the low QC data due to junk reads from primers"
      ],
      "metadata": {
        "id": "UKRxoI8V6uDP"
      },
      "execution_count": null,
      "outputs": []
    },
    {
      "cell_type": "code",
      "source": [
        "!bwa aln MM10/Mouse trimmed_CRISPR.R1fastq > CRISPR.R1.sai\n",
        "!bwa aln MM10/Mouse trimmed_CRISPR.R2fastq > CRISPR.R2.sai\n",
        "\n",
        "# bwa calls on the alighment tools; aln directs the algorithm to use short reads\n",
        "# the first file calls the mouse reference genome/sequences that the CRISPR the reads are being aligned against\n",
        "# the CRISPR input file contains the trimmed sequence reads in FASTQ format\n",
        "# >CRISPR.R1/2.sai: Redirects the output of the alignment process to files named \"CRISPR.R1/2.sai.\"\n",
        "# .sai is a file that is formatted in a binary array; this allows for subsequent steps of the BWA alignment process"
      ],
      "metadata": {
        "id": "MdBUBbKDMm6-"
      },
      "execution_count": null,
      "outputs": []
    },
    {
      "cell_type": "code",
      "source": [
        "!bwa sampe MM10/Mouse CRISPR.R1.sai CRISPR.R2.sai trimmed_CRISPR.R1.fastq trimmed_CRISPR.R2.fastq > CRISPR.bam\n",
        "\n",
        "# The .sai files are the paired reference genome arrays; the fastq files are the sample files being aligned for analysis\n",
        "# .fastq specifies the file with the BWA algorithm for paired-end reads (this just means the data set contains reads from both DNA strands; i.e primer pairs)\n",
        "#> CRISPR.bam redirects the output to a BAM file"
      ],
      "metadata": {
        "id": "GE-UreJP7hRf"
      },
      "execution_count": null,
      "outputs": []
    },
    {
      "cell_type": "code",
      "source": [
        "!samtools view -q 12 CRISPR_Variants.bam | samtools sort -o CRISPR_Variants.bam.sorted | bcftools mpileup -f MM10.fasta --max-depth 2000 CRISPR_Variants.bam.sorted | bcftools call --multiallelic-caller --variants-only --ploidy 2 -Oz -o CRISPR.Variants.vcf.gz\n",
        "\n",
        "# running SAM tools as a pipeline reduces the amount of RAM spaced used\n",
        "# view: -q calls for the graph to read only the reads with the specified mapping quality; removing the ones with quality below 12\n",
        "# sort -o: calls for the sorting of the previous 'cell's' BAM/SAM file; the bam.sorted file name is the output\n",
        "# mpileup -f: summarizes all of the reads and the max-depth cuts off at 2000 bases per site\n",
        "# mouse ploidy: diploid (2); multiallelic allows for multiallelic sites\n",
        "#  --variants-only : Outputs varianst only\n",
        "# -Oz: output compressed file format\n"
      ],
      "metadata": {
        "id": "tskvPzmpBeTO"
      },
      "execution_count": null,
      "outputs": []
    },
    {
      "cell_type": "code",
      "source": [
        "!gzip -df CRISPR.Variants.vcf.gz\n",
        "# unzipping the compressed file"
      ],
      "metadata": {
        "id": "09141BFEzmTx"
      },
      "execution_count": null,
      "outputs": []
    },
    {
      "cell_type": "markdown",
      "source": [
        "Parsing Variant Files"
      ],
      "metadata": {
        "id": "TUktVmTF1YrO"
      }
    },
    {
      "cell_type": "code",
      "source": [
        "!pip install cyvcf2\n",
        "import cyvcf2\n",
        "vcf_reader = cyvcf2.VCF('CRISPR.Variants.vcf')\n",
        "\n",
        "with open('output.tsv', 'w') as file:\n",
        "\n",
        "    for variant in vcf_reader:\n",
        "        genotype = variant.gt_types[0]\n",
        "        data_string = f\"{variant.CHROM}\\t{variant.POS}\\t{variant.ID}\\t{variant.REF}\\t{','.join(variant.ALT)}\\t{variant.QUAL}\\t{variant.FILTER}\\t{genotype}\\n\"\n",
        "        file.write(data_string)\n",
        "\n",
        "# cyvcf2 is library allowing for the parsing of VCF files; the library is required to read a VCF (Variant Call Format) files\n",
        "# the output is where information will be extracted and stored to\n",
        "# the array being created is called vcf_reader\n",
        "# for each element (variant) in the array; the For loop will print each of the attributes listed in the string\n",
        "# genotype = variant.gt_types[0];calls to return an array representing the genotypes for each sample\n",
        "# the data string creates a string for each attribute being called for each varian\n",
        "# the file.write calls for storing the data in a TSV (Tab-Separated Values) file"
      ],
      "metadata": {
        "id": "mR2dqPBh1bHa"
      },
      "execution_count": null,
      "outputs": []
    },
    {
      "cell_type": "code",
      "source": [
        "#(1) A data frame with the data corresponding to the intended mutations\n",
        "import pandas as pd\n",
        "columns = ['CHROM', 'POS', 'ID', 'REF', 'ALT', 'QUAL', 'FILTER', 'GENOTYPE']\n",
        "df = pd.read_csv(\"output.tsv\", sep = \"\\t\", header=None, names= columns)\n",
        "\n",
        "chr2 = df[df['CHROM'] == 'chr2']\n",
        "\n",
        "Edit_sites = [36937210, 36996899, 85400441, 85776687, 85918029, 86198668, 86236802, 86658391, 87049235]\n",
        "Edit_sites_df = chr2[chr2['POS'].isin(Edit_sites)]\n",
        "Edit_sites_df\n",
        "\n",
        "# The pandas library is being imported to read the TSV file (\"output.tsv\"); and to sort the data into a DataFrame with the specified column names\n",
        "# We are primarily interested in whether the targets of interest on chormosome 2 were editted; thus the dataframe is filtered to only include alignments from chromosome 2\n",
        "# The edit_sites data frame creates a new data frame that only contains rows from the chromosome 2 data set in which the \"POS\" or position matches the values targetted by the CRISPR experiement\n",
        "# isin(Edit_sites) determines whether each value in the 'POS' column is present in the Edit_sites list\n",
        "# The output is filered for values that are \"True\" boolean values from the Edit_stites_df ( i.e positions that are present in both data sets)"
      ],
      "metadata": {
        "id": "TVJsEf-327pn"
      },
      "execution_count": null,
      "outputs": []
    },
    {
      "cell_type": "code",
      "source": [
        "#(2) A data frame with off-target mutations.\n",
        "off_target_df = df[df['POS'].isin(Edit_sites)== False]\n",
        "off_target_df\n",
        "\n",
        "# this data frame represents any mutation (i.e \"POS\") that is not including in our editting target dataframe"
      ],
      "metadata": {
        "id": "Pcowpy6b47_v"
      },
      "execution_count": null,
      "outputs": []
    },
    {
      "cell_type": "code",
      "source": [
        "#(3)- A Summary data frame with number of mutations and genotype per chromosmome considering only off-target changes.\n",
        "\n",
        "off_target_counts = off_target_df.groupby('CHROM')['GENOTYPE'].value_counts()\n",
        "off_target_counts\n",
        "\n",
        "# This data frame groups the values (from our off_target data frame) by chromosome number and genotype\n",
        "# .value_counts() counts the number of each value in the 'GENOTYPE' column"
      ],
      "metadata": {
        "id": "ep2E9Y1v5ZU-"
      },
      "execution_count": null,
      "outputs": []
    },
    {
      "cell_type": "code",
      "source": [
        "#(4) A simple plot of: Value counts of off_target variants between our CRIPSR data and reference mouse genome\n",
        "import matplotlib.pyplot as plt\n",
        "off_target_counts.plot(kind='bar', stacked=True)"
      ],
      "metadata": {
        "id": "XnP9uHK1I3tW"
      },
      "execution_count": null,
      "outputs": []
    }
  ]
}